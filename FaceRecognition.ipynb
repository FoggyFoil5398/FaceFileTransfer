{
 "cells": [
  {
   "cell_type": "code",
   "execution_count": 1,
   "metadata": {
    "collapsed": true
   },
   "outputs": [],
   "source": [
    "import face_recognition\n",
    "import os\n",
    "from shutil import copy"
   ]
  },
  {
   "cell_type": "code",
   "execution_count": 2,
   "metadata": {},
   "outputs": [],
   "source": [
    "def run():\n",
    "    person = input(\"Enter the photo location of person to be found (eg. users/rishabh/my_photo.jpg) : \")\n",
    "    photos = input(\"Enter the photos folder location (eg. users/photo_folder) : \")\n",
    "    dest = input(\"Enter the location of folder to copy items into (eg. users/destination_folder) : \")\n",
    "\n",
    "    known_image = face_recognition.load_image_file(person)\n",
    "    biden_encoding = face_recognition.face_encodings(known_image)\n",
    "\n",
    "    for filename in os.listdir(photos):\n",
    "        if filename.endswith(\".jpg\") or filename.endswith(\".jpeg\") or filename.endswith(\".png\") or filename.endswith(\".JPG\"):\n",
    "            print(filename)\n",
    "            f = os.path.join(photos, filename)\n",
    "\n",
    "            unknown_image = face_recognition.load_image_file(f)\n",
    "            unknown_encoding = face_recognition.face_encodings(unknown_image)\n",
    "            if not len(unknown_encoding):\n",
    "                print(filename, \"can't be encoded\")\n",
    "                continue\n",
    "\n",
    "            results = face_recognition.compare_faces(biden_encoding, unknown_encoding[0])\n",
    "            if(results[0]==True):\n",
    "                copy(f, dest)"
   ]
  },
  {
   "cell_type": "code",
   "execution_count": null,
   "metadata": {
    "collapsed": true
   },
   "outputs": [],
   "source": [
    "run()"
   ]
  }
 ],
 "metadata": {
  "kernelspec": {
   "display_name": "Python 3",
   "language": "python",
   "name": "python3"
  },
  "language_info": {
   "codemirror_mode": {
    "name": "ipython",
    "version": 3
   },
   "file_extension": ".py",
   "mimetype": "text/x-python",
   "name": "python",
   "nbconvert_exporter": "python",
   "pygments_lexer": "ipython3",
   "version": "3.6.3"
  }
 },
 "nbformat": 4,
 "nbformat_minor": 2
}
